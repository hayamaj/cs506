{
 "cells": [
  {
   "attachments": {},
   "cell_type": "markdown",
   "metadata": {},
   "source": [
    "# Worksheet 06\n",
    "\n",
    "Name:  \n",
    "UID: \n",
    "\n",
    "### Topics\n",
    "\n",
    "- Kmeans ++\n",
    "- Hierarchical Clustering\n",
    "\n",
    "### Kmeans ++\n",
    "\n",
    "a) What is the difference between K means and K means ++?"
   ]
  },
  {
   "cell_type": "markdown",
   "metadata": {},
   "source": []
  },
  {
   "cell_type": "markdown",
   "metadata": {},
   "source": [
    "b) What are some limitations of K means ++?"
   ]
  },
  {
   "cell_type": "markdown",
   "metadata": {},
   "source": []
  },
  {
   "cell_type": "markdown",
   "metadata": {},
   "source": [
    "c) Interpret the silhouette plot below. It's a histogram where each bar corresponds to the silhouette score for that data point. Comment on which number of clusters K (2,3,4 or 5) you would choose and why. (the red dotted line is the average silhouette score over the entire dataset)."
   ]
  },
  {
   "cell_type": "code",
   "execution_count": null,
   "metadata": {},
   "outputs": [],
   "source": [
    "from IPython.display import Image\n",
    "Image(filename=\"silhouette.png\", width=500, height=500)"
   ]
  },
  {
   "cell_type": "markdown",
   "metadata": {},
   "source": []
  },
  {
   "cell_type": "markdown",
   "metadata": {},
   "source": [
    "### Hierarchical Clustering\n",
    "\n",
    "Using the following dataset:\n",
    "\n",
    "| Point | x | y |\n",
    "|-------|---|---|\n",
    "| A     | 0 | 0 |\n",
    "| B     | 1 | 1 |\n",
    "| C     | 3 | 0 |\n",
    "| D     | 0 | 1 |\n",
    "| E     | 2 | 2 |\n",
    "\n",
    "with\n",
    "\n",
    "d = Euclidean  \n",
    "D = Single-Link\n",
    "\n",
    "produce the distance matrix at every step of the hierarchical clustering algorithm."
   ]
  },
  {
   "cell_type": "markdown",
   "metadata": {},
   "source": [
    "Step 1\n",
    "\n",
    "|   | A | B | C | D | E |\n",
    "|---|---|---|---|---|---|\n",
    "| A | 0 |   |   |   |   |\n",
    "| B |   | 0 |   |   |   |\n",
    "| C |   |   | 0 |   |   |\n",
    "| D |   |   |   | 0 |   |\n",
    "| E |   |   |   |   | 0 |"
   ]
  },
  {
   "cell_type": "markdown",
   "metadata": {},
   "source": [
    "Step 2\n",
    "\n",
    "|   |   |   |   |   |\n",
    "|---|---|---|---|---|\n",
    "|   | 0 |   |   |   |\n",
    "|   |   | 0 |   |   |\n",
    "|   |   |   | 0 |   |\n",
    "|   |   |   |   | 0 |"
   ]
  },
  {
   "cell_type": "markdown",
   "metadata": {},
   "source": [
    "Step 3\n",
    "\n",
    "|   |   |   |   |\n",
    "|---|---|---|---|\n",
    "|   | 0 |   |   |\n",
    "|   |   | 0 |   |\n",
    "|   |   |   | 0 |"
   ]
  },
  {
   "cell_type": "markdown",
   "metadata": {},
   "source": [
    "Step 4\n",
    "\n",
    "|   |   |   |\n",
    "|---|---|---|\n",
    "|   | 0 |   |\n",
    "|   |   | 0 |"
   ]
  },
  {
   "cell_type": "markdown",
   "metadata": {},
   "source": [
    "Repeat the above with\n",
    "\n",
    "d = Euclidean  \n",
    "D = Complete-Link"
   ]
  },
  {
   "cell_type": "markdown",
   "metadata": {},
   "source": [
    "Step 1\n",
    "\n",
    "|   | A | B | C | D | E |\n",
    "|---|---|---|---|---|---|\n",
    "| A | 0 |   |   |   |   |\n",
    "| B |   | 0 |   |   |   |\n",
    "| C |   |   | 0 |   |   |\n",
    "| D |   |   |   | 0 |   |\n",
    "| E |   |   |   |   | 0 |"
   ]
  },
  {
   "cell_type": "markdown",
   "metadata": {},
   "source": [
    "Step 2\n",
    "\n",
    "|   |   |   |   |   |\n",
    "|---|---|---|---|---|\n",
    "|   | 0 |   |   |   |\n",
    "|   |   | 0 |   |   |\n",
    "|   |   |   | 0 |   |\n",
    "|   |   |   |   | 0 |"
   ]
  },
  {
   "cell_type": "markdown",
   "metadata": {},
   "source": [
    "Step 3\n",
    "\n",
    "|   |   |   |   |\n",
    "|---|---|---|---|\n",
    "|   | 0 |   |   |\n",
    "|   |   | 0 |   |\n",
    "|   |   |   | 0 |"
   ]
  },
  {
   "cell_type": "markdown",
   "metadata": {},
   "source": [
    "Step 4\n",
    "\n",
    "|   |   |   |\n",
    "|---|---|---|\n",
    "|   | 0 |   |\n",
    "|   |   | 0 |"
   ]
  },
  {
   "cell_type": "markdown",
   "metadata": {},
   "source": [
    "## Challenge Problem\n",
    "\n",
    "### Input:\n",
    "- Some DNA sequences, each sequence is on a new line. All sequences are of equal length and consist of characters from the set {A, C, G, T}.\n",
    "\n",
    "\n",
    "### Task:\n",
    "- Implement a hierarchical clustering algorithm using Hamming distance as the metric clustering DNA sequences.\n",
    "\n",
    "### Definition of Hamming Distance:\n",
    "\n",
    "The Hamming distance between two strings of equal length is the number of positions at which the corresponding symbols are different. Mathematically, if we have two strings, $s$ and $t$, of equal length, then the Hamming distance $H(s, t)$ is given by:\n",
    "\n",
    "$$ H(s, t) = \\sum_{i=1}^{n} [s_i \\neq t_i] $$\n",
    "\n",
    "where $n$ is the length of the strings, $s_i$ and $t_i$ are the characters at position $i$ in $s$ and $t$ respectively, and $[s_i \\neq t_i]$ is an indicator function, equal to 1 if $s_i \\neq t_i$ and 0 otherwise.\n",
    "\n",
    "\n",
    "### Guidelines:\n",
    "1. **Read the Dataset**: Choose appropriate data structure.\n",
    "2. **Compute Hamming Distance**: Implement a function to calculate the Hamming distance between any two sequences.\n",
    "3. **Hierarchical Clustering**: Apply the hierarchical clustering algorithm using the single-linkage method.\n",
    "4. **Dendrogram**: Generate a dendrogram to visualize the clustering.\n",
    "5. **NOTE**: You may use any Python library, but be sure to understand the underlying algorithm."
   ]
  },
  {
   "cell_type": "code",
   "execution_count": null,
   "metadata": {},
   "outputs": [],
   "source": [
    "sequences = [\n",
    " 'ACGTGGTCTTAA',\n",
    " 'ACGTCGTCTTAC',\n",
    " 'ACGTGGTCTTAC',\n",
    " 'ACGTAGTCTTAA',\n",
    " 'ACGTGGTCTTCC',\n",
    " 'ACGTGGTCTTAG',\n",
    " 'CTGTTAAATAAG',\n",
    " 'GGTTAGAACACG',\n",
    " 'AGTGGTTGAAGT',\n",
    " 'GGCTTACACCCT',\n",
    " 'AGATTGTCCACT',\n",
    " 'CATGCGGTCAAC',\n",
    " 'ATATATCATAGC',\n",
    " 'TTTGCGGTTGGA',\n",
    " 'GAATGGTCAGAA',\n",
    " 'GTGATGCTGTCT']"
   ]
  }
 ],
 "metadata": {
  "kernelspec": {
   "display_name": "env",
   "language": "python",
   "name": "python3"
  },
  "language_info": {
   "codemirror_mode": {
    "name": "ipython",
    "version": 3
   },
   "file_extension": ".py",
   "mimetype": "text/x-python",
   "name": "python",
   "nbconvert_exporter": "python",
   "pygments_lexer": "ipython3",
   "version": "3.9.18"
  },
  "vscode": {
   "interpreter": {
    "hash": "76ca05dc3ea24b2e3b98cdb7774adfbb40773424bf5109b477fd793f623715af"
   }
  }
 },
 "nbformat": 4,
 "nbformat_minor": 2
}
