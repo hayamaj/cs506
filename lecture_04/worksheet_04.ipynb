{
 "cells": [
  {
   "attachments": {},
   "cell_type": "markdown",
   "metadata": {},
   "source": [
    "# Worksheet 04\n",
    "\n",
    "Name:  Haya AlMajali\n",
    "UID: U83334432\n",
    "\n",
    "Partner: Chris Chan\n",
    "\n",
    "### Topics\n",
    "\n",
    "- Distance & Similarity"
   ]
  },
  {
   "cell_type": "markdown",
   "metadata": {},
   "source": [
    "### Distance & Similarity\n",
    "\n",
    "#### Part 1\n",
    "\n",
    "a) In the minkowski distance, describe what the parameters p and d are."
   ]
  },
  {
   "cell_type": "markdown",
   "metadata": {},
   "source": [
    "d defines the dimensionality of the real space\n",
    "p is a parameter that you're able to play around with\n"
   ]
  },
  {
   "cell_type": "markdown",
   "metadata": {},
   "source": [
    "b) In your own words describe the difference between the Euclidean distance and the Manhattan distance."
   ]
  },
  {
   "cell_type": "markdown",
   "metadata": {},
   "source": [
    "euclidian distance measures the straight-line distance b/t two points in space\n",
    "manhattan distance measures the distance b/t two points in space by summing the absolute differences of their coordinates."
   ]
  },
  {
   "attachments": {},
   "cell_type": "markdown",
   "metadata": {},
   "source": [
    "Consider A = (0, 0) and B = (1, 1). When:\n",
    "\n",
    "- p = 1, d(A, B) = 2\n",
    "- p = 2, d(A, B) = $\\sqrt{2} = 1.41$\n",
    "- p = 3, d(A, B) = $2^{1/3} = 1.26$\n",
    "- p = 4, d(A, B) = $2^{1/4} = 1.19$\n",
    "\n",
    "c) Describe what you think distance would look like when p is very large."
   ]
  },
  {
   "cell_type": "markdown",
   "metadata": {},
   "source": [
    "as p becomes really large, the minkowski distance will converge to 1, which is the max difference between any 2 points."
   ]
  },
  {
   "cell_type": "markdown",
   "metadata": {},
   "source": [
    "d) Is the minkowski distance still a distance function when p < 1? Expain why / why not."
   ]
  },
  {
   "cell_type": "markdown",
   "metadata": {},
   "source": [
    "no, as it no longer meets the criteria to be considered a distance function, and the triangle inequality does not hold (see slides)."
   ]
  },
  {
   "cell_type": "markdown",
   "metadata": {},
   "source": [
    "e) when would you use cosine similarity over the euclidan distance?"
   ]
  },
  {
   "cell_type": "markdown",
   "metadata": {},
   "source": [
    "when working with high-dimensional data, where we're looking at similarity based on direction rather than magnitude of vectors."
   ]
  },
  {
   "cell_type": "markdown",
   "metadata": {},
   "source": [
    "f) what does the jaccard distance account for that the manhattan distance doesn't?"
   ]
  },
  {
   "cell_type": "markdown",
   "metadata": {},
   "source": [
    "the jaccard distances cares about whether items are in the sets or not, but not how far apart they are (and this is the opposite for the manhattan distance)."
   ]
  },
  {
   "attachments": {},
   "cell_type": "markdown",
   "metadata": {},
   "source": [
    "#### Part 2\n",
    "\n",
    "Consider the following two sentences:"
   ]
  },
  {
   "cell_type": "code",
   "execution_count": 54,
   "metadata": {},
   "outputs": [],
   "source": [
    "s1 = \"hello my name is Alice\"  \n",
    "s2 = \"hello my name is Bob\""
   ]
  },
  {
   "cell_type": "markdown",
   "metadata": {},
   "source": [
    "using the union of words from both sentences, we can represent each sentence as a vector. Each element of the vector represents the presence or absence of the word at that index.\n",
    "\n",
    "In this example, the union of words is (\"hello\", \"my\", \"name\", \"is\", \"Alice\", \"Bob\") so we can represent the above sentences as such:"
   ]
  },
  {
   "cell_type": "code",
   "execution_count": 55,
   "metadata": {},
   "outputs": [],
   "source": [
    "v1 = [1,    1, 1,   1, 1,    0]\n",
    "#     hello my name is Alice\n",
    "v2 = [1,    1, 1,   1, 0, 1]\n",
    "#     hello my name is    Bob"
   ]
  },
  {
   "attachments": {},
   "cell_type": "markdown",
   "metadata": {},
   "source": [
    "Programmatically, we can do the following:"
   ]
  },
  {
   "cell_type": "code",
   "execution_count": 56,
   "metadata": {},
   "outputs": [
    {
     "name": "stdout",
     "output_type": "stream",
     "text": [
      "['name', 'Bob', 'is', 'hello', 'Alice', 'my']\n",
      "[1, 0, 1, 1, 1, 1]\n"
     ]
    }
   ],
   "source": [
    "corpus = [s1, s2]\n",
    "all_words = list(set([item for x in corpus for item in x.split()]))\n",
    "print(all_words)\n",
    "v1 = [1 if x in s1 else 0 for x in all_words]\n",
    "print(v1)"
   ]
  },
  {
   "cell_type": "markdown",
   "metadata": {},
   "source": [
    "Let's add a new sentence to our corpus:"
   ]
  },
  {
   "cell_type": "code",
   "execution_count": 57,
   "metadata": {},
   "outputs": [],
   "source": [
    "s3 = \"hi my name is Claude\"\n",
    "corpus.append(s3)"
   ]
  },
  {
   "cell_type": "markdown",
   "metadata": {},
   "source": [
    "a) What is the new union of words used to represent s1, s2, and s3?"
   ]
  },
  {
   "cell_type": "code",
   "execution_count": 58,
   "metadata": {},
   "outputs": [
    {
     "name": "stdout",
     "output_type": "stream",
     "text": [
      "['name', 'Bob', 'hi', 'Claude', 'is', 'hello', 'Alice', 'my']\n"
     ]
    }
   ],
   "source": [
    "all_words = list(set([item for x in corpus for item in x.split()]))\n",
    "print(all_words)"
   ]
  },
  {
   "attachments": {},
   "cell_type": "markdown",
   "metadata": {},
   "source": [
    "b) Represent s1, s2, and s3 as vectors as above, using this new set of words."
   ]
  },
  {
   "cell_type": "code",
   "execution_count": 59,
   "metadata": {},
   "outputs": [],
   "source": [
    "v1 = [1 if x in s1 else 0 for x in all_words]\n",
    "v2 = [1 if x in s2 else 0 for x in all_words]\n",
    "v3 = [1 if x in s3 else 0 for x in all_words]"
   ]
  },
  {
   "cell_type": "code",
   "execution_count": 60,
   "metadata": {},
   "outputs": [
    {
     "name": "stdout",
     "output_type": "stream",
     "text": [
      "Vector representation for s1: [1, 0, 0, 0, 1, 1, 1, 1]\n",
      "Vector representation for s2: [1, 1, 0, 0, 1, 1, 0, 1]\n",
      "Vector representation for s3: [1, 0, 1, 1, 1, 0, 0, 1]\n"
     ]
    }
   ],
   "source": [
    "print(\"Vector representation for s1:\", v1)\n",
    "print(\"Vector representation for s2:\", v2)\n",
    "print(\"Vector representation for s3:\", v3)"
   ]
  },
  {
   "cell_type": "markdown",
   "metadata": {},
   "source": [
    "c) Write a function that computes the manhattan distance between two vectors. Which pair of vectors are the most similar under that distance function?"
   ]
  },
  {
   "cell_type": "code",
   "execution_count": 61,
   "metadata": {},
   "outputs": [
    {
     "name": "stdout",
     "output_type": "stream",
     "text": [
      "v1 - v2: 2\n",
      "v1 - v3: 4\n",
      "v2 - v3: 4\n"
     ]
    }
   ],
   "source": [
    "import numpy as np\n",
    "\n",
    "def manhattan_distance(v1, v2):\n",
    "\n",
    "    if len(v1) != len(v2):\n",
    "        raise RuntimeError(\"x & y should be the same dimension\")\n",
    "\n",
    "    v1 = np.array(v1)\n",
    "    v2 = np.array(v2)\n",
    "    return np.sum(np.abs(v1 - v2))\n",
    "\n",
    "print(f\"v1 - v2: {manhattan_distance(v1, v2)}\")\n",
    "print(f\"v1 - v3: {manhattan_distance(v1, v3)}\")\n",
    "print(f\"v2 - v3: {manhattan_distance(v2, v3)}\")"
   ]
  },
  {
   "cell_type": "markdown",
   "metadata": {},
   "source": []
  },
  {
   "cell_type": "markdown",
   "metadata": {},
   "source": [
    "d) Create a matrix of all these vectors (row major) and add the following sentences in vector form:\n",
    "\n",
    "- \"hi Alice\"\n",
    "- \"hello Claude\"\n",
    "- \"Bob my name is Claude\"\n",
    "- \"hi Claude my name is Alice\"\n",
    "- \"hello Bob\""
   ]
  },
  {
   "cell_type": "code",
   "execution_count": 65,
   "metadata": {},
   "outputs": [
    {
     "name": "stdout",
     "output_type": "stream",
     "text": [
      "['name', 'Bob', 'hi', 'Claude', 'is', 'hello', 'Alice', 'my']\n",
      "[[1 0 0 0 1 1 1 1]\n",
      " [1 0 0 0 1 1 1 1]\n",
      " [1 0 0 0 1 1 1 1]\n",
      " [1 0 0 0 1 1 1 1]\n",
      " [1 0 0 0 1 1 1 1]\n",
      " [1 0 0 0 1 1 1 1]\n",
      " [1 0 0 0 1 1 1 1]\n",
      " [1 0 0 0 1 1 1 1]]\n"
     ]
    }
   ],
   "source": [
    "import numpy as np \n",
    "\n",
    "s4 = \"hi Alice\"\n",
    "s5 = \"hello Claude\"\n",
    "s6 = \"Bob my name is Claude\"\n",
    "s7 = \"hi Claude my name is Alice\"\n",
    "s8 = \"hello Bob\"\n",
    "\n",
    "corpus = [s1, s2, s3, s4, s5, s6, s7, s8]\n",
    "all_words = list(set([item for x in corpus for item in x.split()]))\n",
    "\n",
    "new_vectors = [[1 if x in s1 else 0 for x in all_words] for s in corpus]\n",
    "matrix = np.array(new_vectors)\n",
    "print(all_words)\n",
    "print(matrix)"
   ]
  },
  {
   "cell_type": "markdown",
   "metadata": {},
   "source": [
    "e) How many rows and columns does this matrix have?"
   ]
  },
  {
   "cell_type": "code",
   "execution_count": 66,
   "metadata": {},
   "outputs": [
    {
     "name": "stdout",
     "output_type": "stream",
     "text": [
      "the matrix has 8 rows and 8 columns\n"
     ]
    }
   ],
   "source": [
    "r, c = np.shape(matrix)\n",
    "print(f\"the matrix has {r} rows and {c} columns\")"
   ]
  },
  {
   "attachments": {},
   "cell_type": "markdown",
   "metadata": {},
   "source": [
    "f) When using the Manhattan distance, which two sentences are the most similar?"
   ]
  },
  {
   "cell_type": "code",
   "execution_count": 70,
   "metadata": {},
   "outputs": [
    {
     "name": "stdout",
     "output_type": "stream",
     "text": [
      "0.0\n",
      "[0 0 0 0 0 0 0 1 1 1 1 1 1 2 2 2 2 2 3 3 3 3 4 4 4 5 5 6]\n",
      "[1 2 3 4 5 6 7 2 3 4 5 6 7 3 4 5 6 7 4 5 6 7 5 6 7 6 7 7]\n",
      "The words with the shortest distance is s0 and s1\n"
     ]
    }
   ],
   "source": [
    "dist = np.ones((r, r)) * np.inf\n",
    "for row in range(r):\n",
    "    for col in range(row + 1, c):\n",
    "        dist[row, col] = manhattan_distance(matrix[row], matrix[col])\n",
    "\n",
    "min_dist = np.min(dist)\n",
    "print(min_dist)\n",
    "sent1, sent2 = np.nonzero(dist == min_dist)\n",
    "print(f\"The words with the shortest distance is s{sent1[0]} and s{sent2[0]}\")"
   ]
  },
  {
   "cell_type": "code",
   "execution_count": null,
   "metadata": {},
   "outputs": [],
   "source": []
  },
  {
   "cell_type": "markdown",
   "metadata": {},
   "source": [
    "#### Part 3 Challenge"
   ]
  },
  {
   "cell_type": "markdown",
   "metadata": {},
   "source": [
    "Given a set of graphs $\\mathcal{G}$, each graph $G \\in \\mathcal{G}$ is defined over the same set of nodes $V$. The graphs are represented by their adjacency matrices, which are 2D arrays where each element indicates whether a pair of nodes is connected by an edge.\n",
    "\n",
    "Your task is to compute the pairwise distances between these graphs based on a specific distance metric. The distance $d(G, G')$ between two graphs $G = (V, E)$ and $G' = (V, E')$ is defined as the sum of the number of edges in $G$ but not in $G'$, and the number of edges in $G'$ but not in $G$. Mathematically, this can be expressed as:\n",
    "\n",
    "$$\n",
    "d(G, G') = |E \\setminus E'| + |E' \\setminus E|.\n",
    "$$\n",
    "\n",
    "##### Requirements:\n",
    "1. **Input**: Should take a list of 2D numpy arrays as input. Each array represents the adjacency matrix of a graph.\n",
    "\n",
    "2. **Output**: Should output a pairwise distance matrix. If there are $n$ graphs in the input list, the output should be an $n \\times n$ matrix where the entry at position $(i, j)$ represents the distance between the $i^{th}$ and $j^{th}$ graph."
   ]
  },
  {
   "cell_type": "code",
   "execution_count": 78,
   "metadata": {},
   "outputs": [],
   "source": [
    "import numpy as np\n",
    "\n",
    "def compute_distances(graphs):\n",
    "    graphs = np.array(graphs)\n",
    "    upper_tri = np.triu(graphs)\n",
    "    \n",
    "    num_graphs, vertices, _ = np.shape(graphs)\n",
    "    exp_graphs = np.expand_dims(upper_tri, axis=0)\n",
    "    rep_graphs = np.repeat(exp_graphs, num_graphs, axis=0)\n",
    "\n",
    "    tp_graphs = np.transpose(rep_graphs, axes=(1, 0, 2, 3))\n",
    "    d_edges = np.not_equal(rep_graphs, tp_graphs)\n",
    "\n",
    "    distances = np.sum(np.sum(d_edges, axis=3), axis=2)\n",
    "    print(distances)\n",
    "    return distances"
   ]
  },
  {
   "cell_type": "code",
   "execution_count": 80,
   "metadata": {},
   "outputs": [
    {
     "name": "stdout",
     "output_type": "stream",
     "text": [
      "\u001b[1m======================================= test session starts ========================================\u001b[0m\n",
      "platform darwin -- Python 3.11.7, pytest-8.0.0, pluggy-1.4.0\n",
      "rootdir: /Users/hayamaj/cs506/lecture_04\n",
      "collected 1 item\n",
      "\n",
      "t_fd17be4d23854e15b08d213c8e2c6f32.py \u001b[32m.\u001b[0m\u001b[32m                                                      [100%]\u001b[0m\n",
      "\n",
      "\u001b[32m======================================== \u001b[32m\u001b[1m1 passed\u001b[0m\u001b[32m in 0.01s\u001b[0m\u001b[32m =========================================\u001b[0m\n"
     ]
    },
    {
     "data": {
      "text/plain": [
       "<ExitCode.OK: 0>"
      ]
     },
     "execution_count": 80,
     "metadata": {},
     "output_type": "execute_result"
    }
   ],
   "source": [
    "import numpy as np\n",
    "import ipytest\n",
    "\n",
    "def test_compute_distance():\n",
    "    # Arrange\n",
    "    input_graphs = [\n",
    "        np.array([\n",
    "            [0, 1, 0],\n",
    "            [1, 0, 0],\n",
    "            [0, 1, 0]\n",
    "        ]),\n",
    "        np.array([\n",
    "            [0, 1, 1],\n",
    "            [1, 0, 0],\n",
    "            [1, 1, 0]\n",
    "        ]),\n",
    "        np.array([\n",
    "            [1, 0, 0],\n",
    "            [0, 0, 0],\n",
    "            [0, 0, 0]\n",
    "        ]),\n",
    "        np.array([\n",
    "            [1, 1, 1],\n",
    "            [1, 0, 0],\n",
    "            [1, 0, 0]\n",
    "        ])\n",
    "    ]\n",
    "    expected_output = np.array([\n",
    "        [0, 1, 2, 2],\n",
    "        [1, 0, 3, 1],\n",
    "        [2, 3, 0, 2],\n",
    "        [2, 1, 2, 0],\n",
    "    ])\n",
    "\n",
    "    # Act\n",
    "    computed_distances = compute_distances(input_graphs)\n",
    "\n",
    "    # Assert\n",
    "    assert np.all(computed_distances == expected_output)\n",
    "\n",
    "ipytest.run()"
   ]
  }
 ],
 "metadata": {
  "kernelspec": {
   "display_name": "Python 3",
   "language": "python",
   "name": "python3"
  },
  "language_info": {
   "codemirror_mode": {
    "name": "ipython",
    "version": 3
   },
   "file_extension": ".py",
   "mimetype": "text/x-python",
   "name": "python",
   "nbconvert_exporter": "python",
   "pygments_lexer": "ipython3",
   "version": "3.11.7"
  },
  "orig_nbformat": 4,
  "vscode": {
   "interpreter": {
    "hash": "76ca05dc3ea24b2e3b98cdb7774adfbb40773424bf5109b477fd793f623715af"
   }
  }
 },
 "nbformat": 4,
 "nbformat_minor": 2
}
