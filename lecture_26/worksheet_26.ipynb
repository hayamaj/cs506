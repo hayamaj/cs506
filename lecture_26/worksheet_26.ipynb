{
 "cells": [
  {
   "attachments": {},
   "cell_type": "markdown",
   "metadata": {},
   "source": [
    "# Worksheet 26\n",
    "\n",
    "Name:  \n",
    "UID: \n",
    "\n",
    "### Topics\n",
    "\n",
    "- Generative Adversarial Networks\n",
    "\n",
    "## Generative Adversarial Networks\n",
    "\n"
   ]
  },
  {
   "cell_type": "code",
   "execution_count": null,
   "metadata": {},
   "outputs": [],
   "source": [
    "import numpy as np\n",
    "import matplotlib.pyplot as plt\n",
    "from keras.models import Sequential\n",
    "from keras.layers import Dense\n",
    "from keras.layers.activation import ReLU\n",
    "from PIL import Image as im\n",
    "\n",
    "TEMPFILE = 'temp.png'\n",
    "\n",
    "# Define the parameters\n",
    "np.random.seed(0)\n",
    "gen_input_dim = 100\n",
    "epochs = 100\n",
    "batch_size = 128\n",
    "images = []\n",
    "\n",
    "# Define the generator model\n",
    "generator = Sequential()\n",
    "generator.add(Dense(32, input_dim=gen_input_dim, activation='tanh'))\n",
    "generator.add(Dense(2))\n",
    "\n",
    "# Define the discriminator model\n",
    "discriminator = Sequential()\n",
    "discriminator.add(Dense(16, input_dim=2))\n",
    "discriminator.add(ReLU())\n",
    "discriminator.add(Dense(1, activation='sigmoid'))\n",
    "\n",
    "# Compile the models\n",
    "generator.compile(loss='mse')\n",
    "discriminator.compile(loss='binary_crossentropy')\n",
    "\n",
    "# Define the GAN model\n",
    "gan = Sequential()\n",
    "gan.add(generator)\n",
    "gan.add(discriminator)\n",
    "gan.compile(loss='binary_crossentropy')\n",
    "\n",
    "# Define the real data\n",
    "x_real = np.random.multivariate_normal([0, 0], [[1, 0.5], [0.5, 1]], 1000)\n",
    "\n",
    "# Train the GAN\n",
    "for epoch in range(epochs):\n",
    "    # Generate fake data\n",
    "    z = np.random.normal(size=(batch_size, gen_input_dim))\n",
    "    x_fake = generator.predict(z)\n",
    "\n",
    "    # Train the discriminator\n",
    "    discriminator.trainable = True\n",
    "    discriminator.train_on_batch(x_real, np.ones((len(x_real), 1)))\n",
    "    discriminator.train_on_batch(x_fake, np.zeros((batch_size, 1)))\n",
    "\n",
    "    # Train the generator\n",
    "    discriminator.trainable = False\n",
    "    gan.train_on_batch(z, np.ones((batch_size, 1)))\n",
    "\n",
    "    # Plot the progress\n",
    "    fig, ax = plt.subplots()\n",
    "    ax.scatter(x_real[:, 0], x_real[:, 1], c='r')\n",
    "    ax.scatter(x_fake[:, 0], x_fake[:, 1], c='b')\n",
    "    ax.set_title('Epoch {}'.format(epoch))\n",
    "    fig.savefig(TEMPFILE)\n",
    "    plt.close()\n",
    "    images.append(im.fromarray(np.asarray(im.open(TEMPFILE))))\n",
    "\n",
    "images[0].save(\n",
    "    'gan.gif',\n",
    "    optimize=False,\n",
    "    save_all=True,\n",
    "    append_images=images[1:],\n",
    "    loop=0,\n",
    "    duration=10\n",
    ")"
   ]
  }
 ],
 "metadata": {
  "kernelspec": {
   "display_name": "Python 3",
   "language": "python",
   "name": "python3"
  },
  "language_info": {
   "codemirror_mode": {
    "name": "ipython",
    "version": 3
   },
   "file_extension": ".py",
   "mimetype": "text/x-python",
   "name": "python",
   "nbconvert_exporter": "python",
   "pygments_lexer": "ipython3",
   "version": "3.11.1"
  },
  "vscode": {
   "interpreter": {
    "hash": "e7370f93d1d0cde622a1f8e1c04877d8463912d04d973331ad4851f04de6915a"
   }
  }
 },
 "nbformat": 4,
 "nbformat_minor": 2
}
