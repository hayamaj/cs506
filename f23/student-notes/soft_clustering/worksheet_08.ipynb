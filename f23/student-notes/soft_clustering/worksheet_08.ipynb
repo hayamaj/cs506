{
 "cells": [
  {
   "attachments": {},
   "cell_type": "markdown",
   "metadata": {},
   "source": [
    "# Worksheet 08\n",
    "\n",
    "### Topics\n",
    "\n",
    "- Soft Clustering\n",
    "- Clustering Aggregation\n",
    "\n",
    "### Probability Review\n",
    "\n",
    "Read through [the following](https://medium.com/@gallettilance/overview-of-probability-3272b72c82c8)\n",
    "\n",
    "### Soft Clustering\n",
    "\n",
    "We generate 10 data points that come from a normal distribution with mean 5 and variance 1."
   ]
  },
  {
   "cell_type": "code",
   "execution_count": null,
   "metadata": {},
   "outputs": [],
   "source": [
    "import random\n",
    "import numpy as np\n",
    "from sklearn.cluster import KMeans\n",
    "\n",
    "mean = 5\n",
    "stdev = 1\n",
    "\n",
    "s1 = np.random.normal(mean, stdev, 10).tolist()\n",
    "print(s1)"
   ]
  },
  {
   "cell_type": "markdown",
   "metadata": {},
   "source": [
    "a) Generate 10 more data points, this time coming from a normal distribution with mean 8 and variance 1."
   ]
  },
  {
   "cell_type": "code",
   "execution_count": null,
   "metadata": {},
   "outputs": [],
   "source": [
    "s2 = np.random.normal(8, 1, 10).tolist()\n",
    "print(s2)"
   ]
  },
  {
   "cell_type": "markdown",
   "metadata": {},
   "source": [
    "b) Flip a fair coin 10 times. If the coin lands on H, then pick the last data point of `c1` and remove it from `c1`, if T then pick the last data point from `c2` and remove it from `c2`. Add these 10 points to a list called `data`."
   ]
  },
  {
   "cell_type": "code",
   "execution_count": null,
   "metadata": {},
   "outputs": [],
   "source": [
    "data = []\n",
    "for i in range(10):\n",
    "    # flip coin\n",
    "    coin_output = random.choice([0, 1])\n",
    "    if coin_output == 0:\n",
    "        p1 = s1.pop()\n",
    "        data.append(p1)\n",
    "    else:\n",
    "        p2 = s2.pop()\n",
    "        data.append(p2)\n",
    "print(data)"
   ]
  },
  {
   "cell_type": "markdown",
   "metadata": {},
   "source": [
    "c) This `data` is a Gaussian Mixture Distribution with 2 mixture components. Over the next few questions we will walk through the GMM algorithm to see if we can uncover the parameters we used to generate this data. First, please list all these parameters of the GMM that created `data` and the values we know they have."
   ]
  },
  {
   "cell_type": "markdown",
   "metadata": {},
   "source": [
    "Random pick = 0.5\n",
    "\n",
    "Mean and variance of the first distribution = 5, 1\n",
    "\n",
    "Mean and variance of the second distribution = 8, 1"
   ]
  },
  {
   "cell_type": "code",
   "execution_count": null,
   "metadata": {},
   "outputs": [],
   "source": [
    "# Display the points on a 1d line without a y-axis\n",
    "import matplotlib.pyplot as plt\n",
    "\n",
    "plt.scatter(data, [0]*len(data), marker='o')  \n",
    "plt.yticks([])  \n",
    "# Manually set the range for the x-axis\n",
    "plt.axhline(y=0, color='black', linewidth=0.5)  # Adds a horizontal line at y=0\n",
    "plt.xlim([0, max(data)+3])\n",
    "plt.xlabel(\"Value\")\n",
    "plt.title(\"Data on a Number Line\")\n",
    "plt.show()\n"
   ]
  },
  {
   "cell_type": "markdown",
   "metadata": {},
   "source": [
    "d) Let's assume there are two mixture components (note: we could plot the data and make the observation that there are two clusters). The EM algorithm asks us to start with a random `mean_j`, `variance_j`, `P(S_j)` for each component j. One method we could use to find sensible values for these is to apply K means with k=2 here.\n",
    "\n",
    "1. the centroids would be the estimates of the `mean_j`\n",
    "2. the intra-cluster variance could be the estimate of `variance_j`\n",
    "3. the proportion of points in each cluster could be the estimate of `P(S_j)`\n",
    "\n",
    "Go through this process and list the parameter estimates it gives. Are they close or far from the true values?"
   ]
  },
  {
   "cell_type": "code",
   "execution_count": null,
   "metadata": {},
   "outputs": [],
   "source": [
    "kmeans = KMeans(2, init='k-means++').fit(X=np.array(data).reshape(-1, 1))\n",
    "\n",
    "s1 = [x[0] for x in filter(lambda x: x[1] == 0, zip(data, kmeans.labels_))]\n",
    "print(s1)\n",
    "s2 = [x[0] for x in filter(lambda x: x[1] == 1, zip(data, kmeans.labels_))]\n",
    "print(s2)\n",
    "\n",
    "prob_s = [ len(s1) / (len(s1) + len(s2)) , len(s2) / (len(s1) + len(s2)) ]\n",
    "mean = [ sum(s1)/len(s1) , sum(s2)/len(s2) ]\n",
    "var = [ sum(map(lambda x : (x - mean[0])**2, s1)) / len(s1) , sum(map(lambda x : (x - mean[1])**2, s2)) / len(s2) ]\n",
    "\n",
    "print(\"P(S_1) = \" + str(prob_s[0]) + \",  P(S_2) = \" + str(prob_s[1]))\n",
    "print(\"mean_1 = \" + str(mean[0]) + \",  mean_2 = \" + str(mean[1]))\n",
    "print(\"var_1 = \" + str(var[0]) + \",  var_2 = \" + str(var[1]))"
   ]
  },
  {
   "cell_type": "markdown",
   "metadata": {},
   "source": [
    "They are somewhat close to the true values of (5, 1) and (8, 1), but not exactly the same. Especially the variances are off"
   ]
  },
  {
   "cell_type": "code",
   "execution_count": null,
   "metadata": {},
   "outputs": [],
   "source": [
    "from scipy.stats import norm\n",
    "\n",
    "# Generate a range of x values\n",
    "x = np.linspace(min(data) - 2, max(data) + 2, 1000)\n",
    "\n",
    "# Plot data points on a number line\n",
    "plt.scatter(data, [0]*len(data), marker='o', color='black', label='Data points')\n",
    "\n",
    "# Plot the normal distribution for S_1\n",
    "plt.plot(x, norm.pdf(x, mean[0], np.sqrt(var[0])), label='S_1 Distribution', color='blue')\n",
    "\n",
    "# Plot the normal distribution for S_2\n",
    "plt.plot(x, norm.pdf(x, mean[1], np.sqrt(var[1])), label='S_2 Distribution', color='red')\n",
    "\n",
    "# Additional plot settings\n",
    "plt.axhline(y=0, color='black', linewidth=0.5)\n",
    "plt.yticks([])\n",
    "plt.xlabel(\"Value\")\n",
    "plt.title(\"Data and Distributions on a Number Line\")\n",
    "plt.legend()\n",
    "\n",
    "plt.show()"
   ]
  },
  {
   "cell_type": "markdown",
   "metadata": {},
   "source": [
    "e) For each data point, compute `P(S_j | X_i)`. Comment on which cluster you think each point belongs to based on the estimated probabilities. How does that compare to the truth?"
   ]
  },
  {
   "cell_type": "code",
   "execution_count": null,
   "metadata": {},
   "outputs": [],
   "source": [
    "from scipy.stats import norm\n",
    "\n",
    "prob_s0_x = [] # P(S_0 | X_i)\n",
    "prob_s1_x = [] # P(S_1 | X_i)\n",
    "prob_x = [] # P(X_i)\n",
    "\n",
    "k = 2\n",
    "\n",
    "for p in data:\n",
    "    print(\"point = \", p)\n",
    "    pdf_i = []\n",
    "\n",
    "    for j in range(k):\n",
    "        # P(X_i | S_j)\n",
    "        pdf_i.append(norm.pdf(p, mean[j], var[j]))\n",
    "        print(\"probability of observing that point if it came from cluster \" + str(j) + \" = \", pdf_i[j])\n",
    "        # P(S_j) already computed\n",
    "        prob_s[j]\n",
    "\n",
    "    # P(X_i) = P(S_0)P(X_i | S_0) + P(S_1)P(X_i | S_1)\n",
    "    prob_x = prob_s[0] * pdf_i[0] + prob_s[1] * pdf_i[1]\n",
    "\n",
    "    # P(S_j | X_i) = P(X_i | S_j)P(S_j) / P(X_i)\n",
    "    prob_s0_x.append(pdf_i[0] * prob_s[0] / prob_x)\n",
    "    prob_s1_x.append(pdf_i[1] * prob_s[1] / prob_x)\n",
    "\n",
    "probs = zip(data, prob_s0_x, prob_s1_x)\n",
    "for p in probs:\n",
    "    print(p[0])\n",
    "    print(\"Probability of coming from S_1 = \" + str(p[1]))\n",
    "    print(\"Probability of coming from S_2 = \" + str(p[2]))\n",
    "    print()\n"
   ]
  },
  {
   "cell_type": "markdown",
   "metadata": {},
   "source": [
    "f) Having computed `P(S_j | X_i)`, update the estimates of `mean_j`, `var_j`, and `P(S_j)`. How different are these values from the original ones you got from K means? briefly comment."
   ]
  },
  {
   "cell_type": "code",
   "execution_count": null,
   "metadata": {},
   "outputs": [],
   "source": [
    "prob_c = [sum(prob_s0_x)/ len(prob_s0_x), sum(prob_s1_x)/ len(prob_s1_x)]\n",
    "mean = [sum([x[0] * x[1] for x in zip(prob_s0_x, data)]) / sum(prob_s0_x), sum([x[0] * x[1] for x in zip(prob_s1_x, data)]) / sum(prob_s1_x)]\n",
    "var = [sum([(x[0] - mean[0])**2 * x[1] for x in zip(data, prob_s0_x)]) / sum(prob_s0_x), sum([(x[0] - mean[1])**2 * x[1] for x in zip(data, prob_s1_x)]) / sum(prob_s1_x)]\n",
    "\n",
    "print(\"P(S_1) = \" + str(prob_s[0]) + \",  P(S_2) = \" + str(prob_s[1]))\n",
    "print(\"mean_1 = \" + str(mean[0]) + \",  mean_2 = \" + str(mean[1]))\n",
    "print(\"var_1 = \" + str(var[0]) + \",  var_2 = \" + str(var[1]))"
   ]
  },
  {
   "cell_type": "code",
   "execution_count": null,
   "metadata": {},
   "outputs": [],
   "source": [
    "import imageio\n",
    "import os\n",
    "\n",
    "threshold = 1e-8  # Convergence criterion\n",
    "max_iter = 1000  # To avoid infinite loop in case EM doesn't converge\n",
    "iter_count = 0\n",
    "log_likelihoods = []\n",
    "images = []\n",
    "\n",
    "\n",
    "while iter_count < max_iter:\n",
    "    # E-Step\n",
    "    prob_s0_x = []  # P(S_0 | X_i)\n",
    "    prob_s1_x = []  # P(S_1 | X_i)\n",
    "    \n",
    "    current_log_likelihood = 0\n",
    "    \n",
    "    for p in data:\n",
    "        pdf_i = [norm.pdf(p, mean[j], np.sqrt(var[j])) for j in range(k)]\n",
    "        prob_x = sum([prob_s[j] * pdf_i[j] for j in range(k)])\n",
    "        current_log_likelihood += np.log(prob_x)\n",
    "        \n",
    "        prob_s0_x.append(pdf_i[0] * prob_s[0] / prob_x)\n",
    "        prob_s1_x.append(pdf_i[1] * prob_s[1] / prob_x)\n",
    "    \n",
    "    # M-Step\n",
    "    prob_s = [sum(prob_s0_x) / len(data), sum(prob_s1_x) / len(data)]\n",
    "    mean = [sum([x[0] * x[1] for x in zip(prob_s0_x, data)]) / sum(prob_s0_x), \n",
    "            sum([x[0] * x[1] for x in zip(prob_s1_x, data)]) / sum(prob_s1_x)]\n",
    "    var = [sum([(x[0] - mean[0])**2 * x[1] for x in zip(data, prob_s0_x)]) / sum(prob_s0_x), \n",
    "           sum([(x[0] - mean[1])**2 * x[1] for x in zip(data, prob_s1_x)]) / sum(prob_s1_x)]\n",
    "    \n",
    "    if len(log_likelihoods) > 1:\n",
    "        print(np.abs(current_log_likelihood - log_likelihoods[-1]))\n",
    "        if np.abs(current_log_likelihood - log_likelihoods[-1]) < threshold:\n",
    "            break\n",
    "    \n",
    "    log_likelihoods.append(current_log_likelihood)\n",
    "\n",
    "    # Plotting\n",
    "    colors = [(1-p, 0, p) for p in prob_s0_x]\n",
    "    x = np.linspace(min(data) - 2, max(data) + 2, 1000)\n",
    "    \n",
    "    fig, ax = plt.subplots()\n",
    "    ax.scatter(data, [0]*len(data), marker='o', c=colors)\n",
    "    ax.plot(x, norm.pdf(x, 5, 1), color='purple')\n",
    "    ax.plot(x, norm.pdf(x, mean[0], np.sqrt(var[0])), color='blue')\n",
    "    ax.plot(x, norm.pdf(x, 8, 1), color='pink')\n",
    "    ax.plot(x, norm.pdf(x, mean[1], np.sqrt(var[1])), color='red')\n",
    "\n",
    "    \n",
    "    ax.axhline(y=0, color='black', linewidth=0.5)\n",
    "    ax.set_yticks([])\n",
    "    ax.set_xlabel(\"Value\")\n",
    "    ax.set_title(f\"EM Iteration {iter_count + 1}\")\n",
    "\n",
    "\n",
    "    # Save the plot to a file\n",
    "    fname = f\"tmp_plot_{iter_count}.png\"\n",
    "    fig.savefig(fname)\n",
    "    images.append(imageio.imread(fname))\n",
    "    # delete the fig after saving by using fname\n",
    "    os.remove(fname)\n",
    "    plt.close()\n",
    "    iter_count += 1\n",
    "\n",
    "print(len(images))\n",
    "imageio.mimsave('em_animation.gif', images, duration=0.5)"
   ]
  },
  {
   "cell_type": "markdown",
   "metadata": {},
   "source": [
    "Variance of 1 is better but of 2 is worse, both means are worse, but the probabilities are better"
   ]
  },
  {
   "cell_type": "markdown",
   "metadata": {},
   "source": [
    "g) Update `P(S_j | X_i)`. Comment on any differences or lack thereof you observe"
   ]
  },
  {
   "cell_type": "code",
   "execution_count": null,
   "metadata": {},
   "outputs": [],
   "source": [
    "# Update P(S_j|X_i)\n",
    "prob_s0_x, prob_s1_x = [], []\n",
    "for p in data:\n",
    "    pdf_i = [norm.pdf(p, mean[j], np.sqrt(var[j])) for j in range(k)]\n",
    "    prob_x_i = sum([prob_s[j] * pdf_i[j] for j in range(k)])\n",
    "\n",
    "    prob_s0_x.append(pdf_i[0] * prob_s[0] / prob_x_i)\n",
    "    prob_s1_x.append(pdf_i[1] * prob_s[1] / prob_x_i)\n",
    "\n",
    "prob_s = [sum(prob_s0_x) / len(prob_s0_x), sum(prob_s1_x) / len(prob_s1_x)]\n",
    "mean = [sum([x[0] * x[1] for x in zip(prob_s0_x, data)]) / sum(prob_s0_x),\n",
    "        sum([x[0] * x[1] for x in zip(prob_s1_x, data)]) / sum(prob_s1_x)]\n",
    "var = [sum([(x[0] - mean[0]) ** 2 * x[1] for x in zip(data, prob_s0_x)]) / sum(prob_s0_x),\n",
    "       sum([(x[0] - mean[1]) ** 2 * x[1] for x in zip(data, prob_s1_x)]) / sum(prob_s1_x)]\n",
    "\n",
    "print(\"Updated Values after 1 iteration:\")\n",
    "print(\"P(S_1) =\", prob_s[0], \", P(S_2) =\", prob_s[1])\n",
    "print(\"mean_1 =\", mean[0], \", mean_2 =\", mean[1])\n",
    "print(\"var_1 =\", var[0], \", var_2 =\", var[1])"
   ]
  },
  {
   "cell_type": "markdown",
   "metadata": {},
   "source": [
    "Mean2 is better than  the last iteration, but Mean1 is worse than the last iteration,both variances are slightly better. P(S1) and P(S2) are worse than the last iteration."
   ]
  },
  {
   "cell_type": "markdown",
   "metadata": {},
   "source": [
    "h) Use `P(S_j | X_i)` to create a hard assignment - label each point as belonging to a specific cluster (0 or 1)"
   ]
  },
  {
   "cell_type": "code",
   "execution_count": null,
   "metadata": {},
   "outputs": [],
   "source": [
    "labels = [0 if prob_s0 > prob_s1 else 1 for prob_s0, prob_s1 in zip(prob_s0_x, prob_s1_x)]\n",
    "\n",
    "for i, label in enumerate(labels):\n",
    "    print(f\"Data point {data[i]:.2f} is assigned to cluster {label}\")\n"
   ]
  }
 ],
 "metadata": {
  "kernelspec": {
   "display_name": "Python 3",
   "language": "python",
   "name": "python3"
  },
  "language_info": {
   "codemirror_mode": {
    "name": "ipython",
    "version": 3
   },
   "file_extension": ".py",
   "mimetype": "text/x-python",
   "name": "python",
   "nbconvert_exporter": "python",
   "pygments_lexer": "ipython3",
   "version": "3.9.13"
  },
  "vscode": {
   "interpreter": {
    "hash": "e7370f93d1d0cde622a1f8e1c04877d8463912d04d973331ad4851f04de6915a"
   }
  }
 },
 "nbformat": 4,
 "nbformat_minor": 2
}
