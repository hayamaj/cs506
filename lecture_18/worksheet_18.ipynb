{
 "cells": [
  {
   "attachments": {},
   "cell_type": "markdown",
   "metadata": {},
   "source": [
    "# Worksheet 18\n",
    "\n",
    "Name:  \n",
    "UID: \n",
    "\n",
    "### Topics\n",
    "\n",
    "- Linear Regression\n",
    "\n",
    "### Optional Challenge\n",
    "\n",
    "Every day my alarm goes off at seemingly random times… I’ve recorded the times at which it goes off for the past year of so (1 - 355 days). Today is day 356. Can you predict when my alarm will ring using `data.csv`?\n",
    "\n",
    "Please fill out the piazza poll if you think you found the answer.\n",
    "\n",
    "## Linear Regression\n",
    "\n",
    "Where does randomness come from?"
   ]
  },
  {
   "cell_type": "code",
   "execution_count": null,
   "metadata": {},
   "outputs": [],
   "source": [
    "%matplotlib widget\n",
    "import numpy as np\n",
    "import matplotlib.pyplot as plt\n",
    "from mpl_toolkits.mplot3d import Axes3D\n",
    "\n",
    "SAMPLE_SIZE = 100\n",
    "\n",
    "# it's possible for y = 3 * x_1 + (1/4) * x_2\n",
    "# but we don't know to look for x_2 and we only have x_1 as a feature\n",
    "x1 = -10.0 + 20.0 * np.random.random(SAMPLE_SIZE)\n",
    "x2 = -10.0 + 20.0 * np.random.random(SAMPLE_SIZE)\n",
    "y = 3 * x1 + (1/4) * x2\n",
    "\n",
    "# Create the figure\n",
    "fig = plt.figure()\n",
    "\n",
    "# Add an axes\n",
    "ax = fig.add_subplot(111,projection='3d')\n",
    "\n",
    "# and plot the point \n",
    "ax.scatter(x1 , x2 , y,  color='green')\n",
    "ax.set_xlabel(\"x1\")\n",
    "ax.set_ylabel(\"x2\")\n",
    "ax.set_zlabel(\"y\")\n",
    "plt.show()"
   ]
  },
  {
   "attachments": {},
   "cell_type": "markdown",
   "metadata": {},
   "source": [
    "a) Create and plot a dataset of 100 (Y, X) points where `Y = 1 + 0.5 * X + eps`."
   ]
  },
  {
   "cell_type": "code",
   "execution_count": null,
   "metadata": {},
   "outputs": [],
   "source": [
    "import numpy as np\n",
    "import matplotlib.pyplot as plt\n",
    "\n",
    "SAMPLE_SIZE = 100\n",
    "\n",
    "true_beta = np.array([ ... , ... ])\n",
    "x = -1.0 + 2.0 * np.random.random(SAMPLE_SIZE)\n",
    "y = true_beta[0] + true_beta[1] * x + np.random.randn(SAMPLE_SIZE)\n",
    "plt.plot(x,y,'ro',markersize=4)\n",
    "plt.show()"
   ]
  },
  {
   "cell_type": "markdown",
   "metadata": {},
   "source": [
    "b) Plot the least squares estimate line through the scatter plot."
   ]
  },
  {
   "cell_type": "code",
   "execution_count": null,
   "metadata": {},
   "outputs": [],
   "source": [
    "intercept = np.ones(np.shape(x)[0])\n",
    "X = np.array([intercept, x]).T\n",
    "beta_hat = ...\n",
    "\n",
    "x_plot = np.linspace(-1,1,50)\n",
    "y_est = beta_hat[0] + beta_hat[1] * x_plot\n",
    "plt.plot(x_plot, y_est,'b--', lw=2, label='Estimate')\n",
    "plt.plot(x_plot, true_beta[0] + true_beta[1] * x_plot, lw=2, c='g', label='Truth')\n",
    "plt.plot(x, y,'ro',markersize=4)\n",
    "plt.legend()\n",
    "plt.show()"
   ]
  },
  {
   "cell_type": "markdown",
   "metadata": {},
   "source": [
    "c) How does the estimate of `beta` compare to the parameters we used to generate the data?"
   ]
  },
  {
   "cell_type": "markdown",
   "metadata": {},
   "source": []
  },
  {
   "cell_type": "markdown",
   "metadata": {},
   "source": [
    "d) Create and plot a dataset of 100 (Y, X) points where `Y = 1 + 3 * X + .5 * X^2 + eps`."
   ]
  },
  {
   "cell_type": "code",
   "execution_count": null,
   "metadata": {},
   "outputs": [],
   "source": []
  },
  {
   "cell_type": "markdown",
   "metadata": {},
   "source": [
    "e) Plot the least squares estimate line through the scatter plot."
   ]
  },
  {
   "cell_type": "code",
   "execution_count": null,
   "metadata": {},
   "outputs": [],
   "source": []
  },
  {
   "cell_type": "markdown",
   "metadata": {},
   "source": [
    "f) How does the estimate of `beta` compare to the parameters we used to generate the data?"
   ]
  },
  {
   "cell_type": "markdown",
   "metadata": {},
   "source": []
  },
  {
   "attachments": {},
   "cell_type": "markdown",
   "metadata": {},
   "source": [
    "g) Let's repeat d) and f) a large number of times to see how close our estimates are on average and what that distribution looks like."
   ]
  },
  {
   "cell_type": "code",
   "execution_count": null,
   "metadata": {},
   "outputs": [],
   "source": [
    "import numpy as np\n",
    "import matplotlib.pyplot as plt\n",
    "\n",
    "betas = []\n",
    "true_beta = np.array([ ... ])\n",
    "for _ in range(10000):\n",
    "    x = -1 + 2 * np.random.random(SAMPLE_SIZE)\n",
    "    y = ...\n",
    "    intercept = np.ones(np.shape(x)[0])\n",
    "    X = np.array([intercept, x]).T\n",
    "    betas.append(...)\n",
    "\n",
    "plt.hist(np.array(betas)[:, 1], bins=100)\n",
    "plt.axvline(x=true_beta[1], c='r', linestyle='dashed')\n",
    "plt.show()"
   ]
  }
 ],
 "metadata": {
  "kernelspec": {
   "display_name": "Python 3",
   "language": "python",
   "name": "python3"
  },
  "language_info": {
   "codemirror_mode": {
    "name": "ipython",
    "version": 3
   },
   "file_extension": ".py",
   "mimetype": "text/x-python",
   "name": "python",
   "nbconvert_exporter": "python",
   "pygments_lexer": "ipython3",
   "version": "3.11.1"
  },
  "vscode": {
   "interpreter": {
    "hash": "e7370f93d1d0cde622a1f8e1c04877d8463912d04d973331ad4851f04de6915a"
   }
  }
 },
 "nbformat": 4,
 "nbformat_minor": 2
}
